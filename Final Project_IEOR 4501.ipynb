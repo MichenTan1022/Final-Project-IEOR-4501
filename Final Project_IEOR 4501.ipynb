{
 "cells": [
  {
   "cell_type": "markdown",
   "id": "53e37feb",
   "metadata": {},
   "source": [
    "## Part 0: Setup\n",
    "In this part we set up some basic environment and variables needed for this project."
   ]
  },
  {
   "cell_type": "code",
   "execution_count": 1,
   "id": "ff81866d",
   "metadata": {},
   "outputs": [],
   "source": [
    "import os\n",
    "import re\n",
    "import bs4\n",
    "import math\n",
    "import requests\n",
    "import warnings\n",
    "import numpy as np\n",
    "import pandas as pd\n",
    "import keplergl as kg\n",
    "from scipy import stats\n",
    "import sqlalchemy as db\n",
    "import geopandas as gpd\n",
    "import matplotlib.pyplot as plt\n",
    "\n",
    "warnings.filterwarnings(\"ignore\")"
   ]
  },
  {
   "cell_type": "code",
   "execution_count": 2,
   "id": "983aa8ef",
   "metadata": {},
   "outputs": [],
   "source": [
    "# Variables needed\n",
    "TAXI_URL = \"https://www1.nyc.gov/site/tlc/about/tlc-trip-record-data.page\"\n",
    "UBER_CSV = \"uber_rides_sample.csv\"\n",
    "WEATHER_CSV = [\"weather-2009.csv\", \"weather-2010.csv\", \"weather-2011.csv\", \n",
    "               \"weather-2012.csv\", \"weather-2013.csv\", \"weather-2014.csv\", \"weather-2015.csv\"]\n",
    "ZONE_PATH = \"taxi_zones.shp\"\n",
    "\n",
    "NY_COORDS = ((40.560445, -74.242330), (40.908524, -73.717047))\n",
    "\n",
    "DATABASE = \"sqlite:///project.db\"\n",
    "SCHEMA_FILE = \"schema.sql\""
   ]
  },
  {
   "cell_type": "code",
   "execution_count": 3,
   "id": "e113d905",
   "metadata": {},
   "outputs": [],
   "source": [
    "Taxi_zone = gpd.read_file(ZONE_PATH)\n",
    "Taxi_zone = Taxi_zone.to_crs(4326)\n",
    "Taxi_zone['longitude'] = Taxi_zone.centroid.x  \n",
    "Taxi_zone['latitude'] = Taxi_zone.centroid.y"
   ]
  },
  {
   "cell_type": "markdown",
   "id": "d02d184c",
   "metadata": {},
   "source": [
    "## Part 1: Data Preprocessing\n",
    "### Yellow Taxi trip data: Downloading, Cleaning, Sampling"
   ]
  },
  {
   "cell_type": "code",
   "execution_count": null,
   "id": "31d64e1b",
   "metadata": {},
   "outputs": [],
   "source": []
  }
 ],
 "metadata": {
  "kernelspec": {
   "display_name": "Python 3 (ipykernel)",
   "language": "python",
   "name": "python3"
  },
  "language_info": {
   "codemirror_mode": {
    "name": "ipython",
    "version": 3
   },
   "file_extension": ".py",
   "mimetype": "text/x-python",
   "name": "python",
   "nbconvert_exporter": "python",
   "pygments_lexer": "ipython3",
   "version": "3.9.7"
  }
 },
 "nbformat": 4,
 "nbformat_minor": 5
}

def get_taxi_html() -> bytes:
    response = requests.get(TAXI_URL)
    html = response.content
    return html
